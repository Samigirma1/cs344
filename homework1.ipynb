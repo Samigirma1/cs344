{
 "cells": [
  {
   "cell_type": "markdown",
   "source": [
    "### Samuel Zeleke - CS344 - Homework 1\n",
    "\n",
    "#### Exercise 1. The earliest psychologists studied the human mind using introspection. Would this be a good ...\n",
    "#### Answer:\n",
    "\n",
    "Introspection is a process of accessing a person's mental state through reflection and personal assessment. It provides \n",
    "direct access to a persons thought process. But, since the person's interpretation of their mind this subjective \n",
    "(influenced by their past experiences), It can't be used to create a general model(s) for human cognitive processes.\n",
    "\n",
    "#### Exercise 2\n",
    "\n",
    "#### Q1. Implement a local search formulation of a TSP problem and use the AIMA hill-climbing and ... \n",
    "#### Answer:\n",
    "\n",
    "- States:\n",
    "    - a possible path\n",
    "- Actions:\n",
    "    - interchanging a pair of cities in the path.\n",
    "\n",
    "#### Q2. Configure your system so that you can build TSP worlds of any number of cities with random ... \n",
    "#### Answer:"
   ],
   "metadata": {
    "collapsed": false,
    "pycharm": {
     "name": "#%% md\n"
    }
   }
  },
  {
   "cell_type": "code",
   "execution_count": 4,
   "outputs": [
    {
     "name": "stdout",
     "text": [
      "Adj list:\n",
      " \n",
      "\tFor  0 :  [0, 13, 97, 89, 20, 63, 76, 20, 17, 30, 18, 40, 45, 41, 17] \n",
      "\n",
      "\tFor  1 :  [13, 0, 77, 38, 68, 13, 98, 69, 60, 7, 19, 53, 10, 36, 64] \n",
      "\n",
      "\tFor  2 :  [97, 77, 0, 10, 26, 37, 11, 26, 43, 83, 50, 24, 20, 34, 22] \n",
      "\n",
      "\tFor  3 :  [89, 38, 10, 0, 4, 8, 17, 52, 31, 24, 78, 38, 53, 11, 34] \n",
      "\n",
      "\tFor  4 :  [20, 68, 26, 4, 0, 41, 92, 34, 55, 80, 9, 47, 10, 36, 46] \n",
      "\n",
      "\tFor  5 :  [63, 13, 37, 8, 41, 0, 23, 69, 36, 88, 85, 35, 43, 23, 28] \n",
      "\n",
      "\tFor  6 :  [76, 98, 11, 17, 92, 23, 0, 32, 74, 83, 87, 37, 25, 14, 77] \n",
      "\n",
      "\tFor  7 :  [20, 69, 26, 52, 34, 69, 32, 0, 6, 95, 14, 27, 84, 23, 51] \n",
      "\n",
      "\tFor  8 :  [17, 60, 43, 31, 55, 36, 74, 6, 0, 13, 85, 26, 41, 26, 19] \n",
      "\n",
      "\tFor  9 :  [30, 7, 83, 24, 80, 88, 83, 95, 13, 0, 82, 44, 87, 63, 24] \n",
      "\n",
      "\tFor  10 :  [18, 19, 50, 78, 9, 85, 87, 14, 85, 82, 0, 5, 58, 74, 66] \n",
      "\n",
      "\tFor  11 :  [40, 53, 24, 38, 47, 35, 37, 27, 26, 44, 5, 0, 86, 48, 72] \n",
      "\n",
      "\tFor  12 :  [45, 10, 20, 53, 10, 43, 25, 84, 41, 87, 58, 86, 0, 64, 86] \n",
      "\n",
      "\tFor  13 :  [41, 36, 34, 11, 36, 23, 14, 23, 26, 63, 74, 48, 64, 0, 10] \n",
      "\n",
      "\tFor  14 :  [17, 64, 22, 34, 46, 28, 77, 51, 19, 24, 66, 72, 86, 10, 0] \n",
      "\n",
      "Start:\t[0, 5, 8, 7, 6, 9, 2, 11, 12, 1, 13, 3, 14, 4, 10]\n",
      "Value:\t-559\n",
      "\n",
      "Hill-climbing:\n",
      "\tSolution:\t[14, 0, 8, 7, 6, 12, 2, 11, 9, 1, 5, 13, 3, 4, 10]\n",
      "\tValue:\t\t-252\n",
      "\n",
      "Simulated annealing:\n",
      "\tSolution:\t[4, 10, 7, 8, 9, 11, 2, 12, 1, 5, 3, 6, 13, 14, 0]\n",
      "\tValue:\t\t-219\n"
     ],
     "output_type": "stream"
    }
   ],
   "source": [
    "from search import Problem, hill_climbing, simulated_annealing, exp_schedule\n",
    "import itertools\n",
    "import random\n",
    "import math\n",
    "\n",
    "\n",
    "class TSP(Problem):\n",
    "    \"\"\"An implementation of NQueens for local search. This is a complete-state\n",
    "    reformulation of the partial-state AIMA-Python version.\n",
    "\n",
    "    State representation:\n",
    "        [q1, q2, ..., qn] gives the row for each of the n queens.\n",
    "    Move representation:\n",
    "        [column, row]: Move the queen in the given column to the given row.\n",
    "    \"\"\"\n",
    "\n",
    "    def __init__(self, adj_matrix, initial_path):\n",
    "\n",
    "        self.adj_matrix = adj_matrix\n",
    "        self.numCities = len(self.adj_matrix)\n",
    "        self.initial = initial_path\n",
    "            \n",
    "    def actions(self, state):\n",
    "        \"\"\"Actions move the queen in each column to any of the other,\n",
    "        unfilled row spots.\n",
    "        \"\"\"\n",
    "        return list([swaps for swaps in itertools.combinations(state, 2)])\n",
    "\n",
    "    def result(self, state, move):\n",
    "        \"\"\"Makes the given move on a copy of the given state.\"\"\"\n",
    "        new_state = state[:]\n",
    "\n",
    "        new_state[state.index(move[0])] = move[1]\n",
    "        new_state[state.index(move[1])] = move[0]\n",
    "\n",
    "        return new_state\n",
    "\n",
    "    def value(self, state):\n",
    "        \"\"\"This method computes a value of given state based on the number of\n",
    "        conflicting pairs of queens. It doesn't follow AIMA-Python's NQueens\n",
    "        gradient-descent formulation; instead, it counts the number of\n",
    "        non-conflicting pairs (e.g., top score: 28 for a 8-queen problem;\n",
    "        worst score: 0).\n",
    "        \"\"\"\n",
    "\n",
    "        # Start with the highest possible score (n combined 2)\n",
    "        score = 0\n",
    "\n",
    "        # Loop through all pairs, subtracting one for every conflicted pair.\n",
    "        for i in range(self.numCities - 1):\n",
    "            score -= self.adj_matrix[state[i]][state[i + 1]]\n",
    "\n",
    "        return score\n",
    "\n",
    "def genAdjMatrix(num):\n",
    "                # generate a list of the random numbers\n",
    "        rand_distances = []\n",
    "        \n",
    "        # generate adj matrix\n",
    "        temp = []\n",
    "        for i in range(num):\n",
    "            tempIn = []\n",
    "            for j in range(num):\n",
    "                if i == j:\n",
    "                    tempIn.append(0)\n",
    "                elif i < j:\n",
    "                    tempIn.append(random.randint(1, 100))\n",
    "                else:\n",
    "                    tempIn.append(temp[j][i])\n",
    "            temp.append(tempIn)\n",
    "        return temp\n",
    "\n",
    "if __name__ == '__main__':\n",
    "    \n",
    "    n = 15\n",
    "    # adj = [\n",
    "    #     [0, 2, 3, 4, 5],\n",
    "    #     [2, 0, 4, 5, 6],\n",
    "    #     [3, 4, 0, 6, 7],\n",
    "    #     [4, 5, 6, 0, 8],\n",
    "    #     [5, 6, 7, 8, 0]\n",
    "    # ]\n",
    "    adj = genAdjMatrix(n)\n",
    "\n",
    "    init = []\n",
    "\n",
    "    for i in range(len(adj)):\n",
    "        init.append(i)\n",
    "\n",
    "    random.shuffle(init)\n",
    "    print(\"Adj list:\\n \")\n",
    "    for i in range(len(adj)):\n",
    "        print (\"\\tFor \", i, \": \", adj[i], \"\\n\")\n",
    "\n",
    "    # Initialize the board with all queens in the first row.\n",
    "\n",
    "    print('Start:\\t' + str(init))\n",
    "\n",
    "    # Initialize the NQueens problem\n",
    "    p = TSP(adj, init)\n",
    "    print('Value:\\t' + str(p.value(init)))\n",
    "\n",
    "    # Solve the problem using hill climbing.\n",
    "    hill_solution = hill_climbing(p)\n",
    "    print('\\nHill-climbing:')\n",
    "    print('\\tSolution:\\t' + str(hill_solution))\n",
    "    print('\\tValue:\\t\\t' + str(p.value(hill_solution)))\n",
    "    # print('\\tGoal?\\t\\t' + str(p.goal_test(hill_solution)))\n",
    "\n",
    "    # Solve the problem using simulated annealing.\n",
    "    annealing_solution = \\\n",
    "        simulated_annealing(p, exp_schedule(k=20, lam=0.005, limit=10000))\n",
    "    print('\\nSimulated annealing:')\n",
    "    print('\\tSolution:\\t' + str(annealing_solution))\n",
    "    print('\\tValue:\\t\\t' + str(p.value(annealing_solution)))\n",
    "    # print('\\tGoal?\\t\\t' + str(p.goal_test(annealing_solution)))"
   ],
   "metadata": {
    "collapsed": false,
    "pycharm": {
     "name": "#%% python\n",
     "is_executing": false
    }
   }
  },
  {
   "cell_type": "markdown",
   "source": [
    "#### Q3. Explain which local search algorithm works better and why\n",
    "#### Answer:\n",
    "[TODO]"
   ],
   "metadata": {
    "collapsed": false,
    "pycharm": {
     "name": "#%% md\n"
    }
   }
  },
  {
   "cell_type": "code",
   "execution_count": null,
   "outputs": [],
   "source": [],
   "metadata": {
    "collapsed": false,
    "pycharm": {
     "name": "#%% python\n"
    }
   }
  }
 ],
 "metadata": {
  "kernelspec": {
   "display_name": "Python 3",
   "language": "python",
   "name": "python3"
  },
  "language_info": {
   "codemirror_mode": {
    "name": "ipython",
    "version": 3
   },
   "file_extension": ".py",
   "mimetype": "text/x-python",
   "name": "python",
   "nbconvert_exporter": "python",
   "pygments_lexer": "ipython3",
   "version": "3.7.3"
  },
  "pycharm": {
   "stem_cell": {
    "cell_type": "raw",
    "source": [],
    "metadata": {
     "collapsed": false
    }
   }
  }
 },
 "nbformat": 4,
 "nbformat_minor": 2
}