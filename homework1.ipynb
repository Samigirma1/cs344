{
 "cells": [
  {
   "cell_type": "markdown",
   "source": [
    "### Samuel Zeleke - CS344 - Homework 1\n",
    "\n",
    "#### Exercise 1. The earliest psychologists studied the human mind using introspection. Would this be a good ...\n",
    "#### Answer:\n",
    "\n",
    "Introspection is a process of accessing a person's mental state through reflection and personal assessment. It provides \n",
    "direct access to a persons thought process. But, since the person's interpretation of their mind this subjective \n",
    "(influenced by their past experiences), It can't be used to create a general model(s) for human cognitive processes.\n",
    "\n",
    "#### Exercise 2. Implement a local search formulation of a TSP problem and use the AIMA hill-climbing and ... \n",
    "\n",
    "#### Answer:\n",
    "\n",
    "- States:\n",
    "    - dictionary of cities and int (0 or 1) to mark them\n",
    "    as visited\n",
    "- Actions:\n",
    "    - mark destinatio"
   ],
   "metadata": {
    "collapsed": false,
    "pycharm": {
     "name": "#%% md\n"
    }
   }
  },
  {
   "cell_type": "code",
   "execution_count": null,
   "outputs": [],
   "source": [
    "import csp\n",
    "import numpy"
   ],
   "metadata": {
    "collapsed": false,
    "pycharm": {
     "name": "#%% python\n"
    }
   }
  }
 ],
 "metadata": {
  "kernelspec": {
   "display_name": "Python 3",
   "language": "python",
   "name": "python3"
  },
  "language_info": {
   "codemirror_mode": {
    "name": "ipython",
    "version": 3
   },
   "file_extension": ".py",
   "mimetype": "text/x-python",
   "name": "python",
   "nbconvert_exporter": "python",
   "pygments_lexer": "ipython3",
   "version": "3.7.3"
  },
  "pycharm": {
   "stem_cell": {
    "cell_type": "raw",
    "source": [],
    "metadata": {
     "collapsed": false
    }
   }
  }
 },
 "nbformat": 4,
 "nbformat_minor": 2
}