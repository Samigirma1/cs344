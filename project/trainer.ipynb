{
 "cells": [
  {
   "cell_type": "code",
   "execution_count": null,
   "outputs": [],
   "source": [
    "import os\n",
    "import requests\n",
    "import zipfile\n",
    "import cv2\n",
    "import tensorflow as tf\n",
    "import keras\n",
    "from keras import layers\n",
    "import matplotlib.pyplot as plt\n",
    "import numpy\n",
    "\n",
    "#hyper params\n",
    "batch_size = 10\n",
    "\n",
    "# defineing utility methods\n",
    "def plotImages(images_arr):\n",
    "    fig, axes = plt.subplots(1, 5, figsize=(20,20))\n",
    "    axes = axes.flatten()\n",
    "    for img, ax in zip( images_arr, axes):\n",
    "        ax.imshow(img)\n",
    "        ax.axis('off')\n",
    "    plt.tight_layout()\n",
    "    plt.show()\n",
    "\n",
    "# unzipfile\n",
    "with zipfile.ZipFile(\"/content/drive/My Drive/tif_extended.zip\", 'r') as zip_ref:\n",
    "    zip_ref.extractall(\"./trainingSrc\")\n",
    "\n",
    "PATH = \"./trainingSrc/tif_extended\"\n",
    "CLASSES = os.listdir(PATH)\n",
    "\n",
    "image_generator = tf.keras.preprocessing.image.ImageDataGenerator(rescale=1./255, validation_split = 0.2)\n",
    "images = image_generator.flow_from_directory(\n",
    "    PATH,\n",
    "    batch_size = 1,\n",
    "    target_size = (256, 256),\n",
    ")\n",
    "sample, label = next(images)\n",
    "feature_dataframe = []\n",
    "target_dataframe = []\n",
    "\n",
    "for i in range(len(images)):\n",
    "  feature_dataframe.append(images[i][0][0])\n",
    "  target_dataframe.append(images[i][1][0])\n",
    "\n",
    "feature_dataframe = numpy.array(feature_dataframe)\n",
    "target_dataframe = numpy.array(target_dataframe)\n",
    "\n",
    "# create network\n",
    "model = keras.Sequential()\n",
    "\n",
    "# input and first convolution: extract 30 features\n",
    "model.add(keras.layers.Conv2D(30, 2, activation=\"relu\", input_shape = (256, 256, 3)))\n",
    "model.add(keras.layers.Conv2D(60, kernel_size=5, strides=(2, 2), activation=\"relu\"))#(60, 5, stri activation=\"relu\"))\n",
    "# input and second convolution: extract 30 features\n",
    "model.add(keras.layers.Conv2D(60, 5, activation=\"relu\"))\n",
    "model.add(keras.layers.Conv2D(30, 3, activation=\"relu\"))\n",
    "model.add(keras.layers.MaxPooling2D(2))\n",
    "\n",
    "# input and third convolution: extract 30 features\n",
    "model.add(keras.layers.Conv2D(60, 5, activation=\"relu\"))\n",
    "model.add(keras.layers.MaxPooling2D(2))\n",
    "\n",
    "#flatten\n",
    "model.add(keras.layers.Flatten())\n",
    "# three dense layers\n",
    "model.add(keras.layers.Dense(120, activation=\"relu\"))\n",
    "model.add(keras.layers.Dense(28, activation=\"relu\"))\n",
    "model.add(keras.layers.Dense(7, activation=\"softmax\"))\n",
    "\n",
    "model.compile(\n",
    "    optimizer=\"adam\",\n",
    "    loss=\"binary_crossentropy\",\n",
    "    metrics=[\"acc\"]\n",
    ")\n",
    "\n",
    "model.summary()"
   ],
   "metadata": {
    "collapsed": false,
    "pycharm": {
     "name": "#%%\n"
    }
   }
  },
  {
   "cell_type": "code",
   "execution_count": null,
   "outputs": [],
   "source": [
    "model.fit(\n",
    "    x = feature_dataframe,\n",
    "    y = target_dataframe,\n",
    "    batch_size = batch_size,\n",
    "    epochs = 10,\n",
    "    validation_split = 0.2\n",
    ")"
   ],
   "metadata": {
    "collapsed": false,
    "pycharm": {
     "name": "#%%\n"
    }
   }
  },
  {
   "cell_type": "code",
   "execution_count": null,
   "outputs": [],
   "source": [
    "model.predict(feature_dataframe[50:55])"
   ],
   "metadata": {
    "collapsed": false,
    "pycharm": {
     "name": "#%%\n"
    }
   }
  },
  {
   "cell_type": "code",
   "execution_count": null,
   "outputs": [],
   "source": [
    "plotImages(feature_dataframe[50:55])\n"
   ],
   "metadata": {
    "collapsed": false,
    "pycharm": {
     "name": "#%%\n"
    }
   }
  },
  {
   "cell_type": "code",
   "execution_count": null,
   "outputs": [],
   "source": [
    "model_json = model.to_json()\n",
    "with open(\"model.json\", \"w\") as json_file:\n",
    "    json_file.write(model_json)\n",
    "# serialize weights to HDF5\n",
    "model.save_weights(\"model.h5\")\n",
    "print(\"Saved model to disk\")\n"
   ],
   "metadata": {
    "collapsed": false,
    "pycharm": {
     "name": "#%%\n"
    }
   }
  }
 ],
 "metadata": {
  "kernelspec": {
   "display_name": "Python 3",
   "language": "python",
   "name": "python3"
  },
  "language_info": {
   "codemirror_mode": {
    "name": "ipython",
    "version": 2
   },
   "file_extension": ".py",
   "mimetype": "text/x-python",
   "name": "python",
   "nbconvert_exporter": "python",
   "pygments_lexer": "ipython2",
   "version": "2.7.6"
  }
 },
 "nbformat": 4,
 "nbformat_minor": 0
}