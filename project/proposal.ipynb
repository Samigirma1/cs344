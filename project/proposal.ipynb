{
 "cells": [
  {
   "cell_type": "markdown",
   "metadata": {
    "collapsed": true,
    "pycharm": {
     "name": "#%% md\n"
    }
   },
   "source": [
    "## Honors Project Proposal - Samuel Zeleke & Enoch Mwesigwa\n",
    "\n",
    "Multi-label classification and object detection models have gained significant popularity in recent years. They've become\n",
    "integral components of systems ranging from autonomous cars and security systems, to social media platforms and search\n",
    "engines. Our project is aimed at creating a system that correctly labels facial expressions in real-time using an Aryzon headset and\n",
    "CNNs built on keras. We'll adapt YOLO, the most efficient object-detection architecture, to recognize facial expressions\n",
    "in the frames and use its output to draw a labelled box around faces on display the results on the headset. [Talk about\n",
    "results]\n",
    "\n",
    "### Background\n",
    "Object detection entails recognizing multiple objects places at different locations in the image. Unfortunately, regular\n",
    "covNets cannot (at least not \"normally\") cannot solve this problem: their architecture only allows inputs and outputs\n",
    "with fixed sizes. So, they are restricted to merely labelling images.\n",
    "\n",
    "There have been several attempts to go around this problem. The most significant ones are using R-CNN and YOLO. [R-CNN](https://towardsdatascience.com/r-cnn-fast-r-cnn-faster-r-cnn-yolo-object-detection-algorithms-36d53571365e)\n",
    "and its decedents use additional preprocessing to generate thousands of candidate regions (called \"proposals\") in the images\n",
    "and pass each region to a covNet for classification. Obviously, this is a very resource-intensive process, (training in\n",
    "some architectures takes days) and they are not fast enough for real-time object recognition.\n",
    "\n",
    "This is where YOLO models come in. Instead of processing the image to generate candidate regions, the algorithm \"brakes\"\n",
    "the image into the a grid of squares. Then for each square, it determines the class probability, and offset values. It\n",
    "aggregate the results to create reasonable labels and bounding regions. This method is several times faster and more\n",
    "efficient than R-CNNs. Unfortunately, it's not effective for labelling objects in images with sizes less than the size\n",
    "of the boxes in the grid.\n",
    "\n",
    "\\[TODO: Talk about aryzon\\]\n",
    "\n",
    "### Implementation\n",
    "\n",
    "The Aryzon 3D AR headset provides an inexpensive platform complete with a unity SDK and other developer tools. It uses\n",
    "a mobile phone for its \"screen\" and camera. Images captured by the headset are sent to a MySQL server hosted on a\n",
    "Raspberry PI that contains the trained models. The images processed (labelled) on the raspberry pi are then sent back to\n",
    "the headset to be viewed by the user.\n",
    "\n",
    "The Neural networks used to label the images will be built using the Keras library. It conveniently abstracts tensorflow's\n",
    "nuances a provides an intuitive API for building complex models. This will let us experiment with different architectures and\n",
    "choose a setup that works best.\n",
    "\n",
    "### Results\n",
    "[TODO: ]\n",
    "### Implication\n",
    "[TODO: ]"
   ]
  }
 ],
 "metadata": {
  "kernelspec": {
   "display_name": "Python 3",
   "language": "python",
   "name": "python3"
  },
  "language_info": {
   "codemirror_mode": {
    "name": "ipython",
    "version": 2
   },
   "file_extension": ".py",
   "mimetype": "text/x-python",
   "name": "python",
   "nbconvert_exporter": "python",
   "pygments_lexer": "ipython2",
   "version": "2.7.6"
  }
 },
 "nbformat": 4,
 "nbformat_minor": 0
}