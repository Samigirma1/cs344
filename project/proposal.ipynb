{
 "cells": [
  {
   "cell_type": "markdown",
   "metadata": {
    "collapsed": true,
    "pycharm": {
     "name": "#%% md\n"
    }
   },
   "source": [
    "## Honors Project Proposal - Samuel Zeleke & Enoch Mwesigwa\n",
    "\n",
    "Multi-label classification and object detection models have gained significant popularity in recent years. They've become\n",
    "integral components of systems ranging from autonomous cars and security systems, to social media platforms and search\n",
    "engines. Our project is aimed at creating a system that correctly labels facial expressions in real-time using an Aryzon headset and\n",
    "CNNs built on keras. We'll adapt YOLO, the most efficient object-detection architecture, to recognize facial expressions\n",
    "in the frames and use its output to draw a labelled box around faces on display the results on the headset. [Talk about\n",
    "results]\n",
    "\n",
    "### Background\n",
    "Object detection entails recognizing multiple objects places at different locations in the image. Unfortunately, regular\n",
    "covNets cannot (at least not \"normally\") cannot solve this problem: their architecture only allows inputs and outputs\n",
    "with fixed sizes. So, they are restricted to merely labelling images.\n",
    "\n",
    "There have been several attempts to go around this problem. The most significant ones are using R-CNN and YOLO. [R-CNN](https://towardsdatascience.com/r-cnn-fast-r-cnn-faster-r-cnn-yolo-object-detection-algorithms-36d53571365e)\n",
    "and its decedents use additional preprocessing to generate thousands of candidate regions (called \"proposals\") in the images\n",
    "and pass each region to a covNet for classification. Obviously, this is a very resource-intensive process, (training in\n",
    "some architectures takes days) and they are not fast enough for real-time object recognition.\n",
    "\n",
    "This is where [YOLO](https://medium.com/analytics-vidhya/yolo-v3-theory-explained-33100f6d193) (\"You only look once\") models come in. Instead of processing the image to generate candidate regions, the algorithm \"brakes\"\n",
    "the image into the a grid of squares. Then for each square, it determines the class probability, and offset values. It\n",
    "aggregate the results to create reasonable labels and bounding regions. This method is several times faster and more\n",
    "efficient than R-CNNs. It also uses a single pass through a (very deep) CovNet. Unfortunately, it's not effective for\n",
    "labelling objects in images with sizes less than the size of the boxes in the grid. But, since speed is the most important\n",
    "quality for real-time applications, we chose to use YOLOv3 for our application.\n",
    "\n",
    "\\[TODO: Talk about aryzon\\]\n",
    "[Maybe :\n",
    "\n",
    "The Aryzon 3D AR headset provides an inexpensive platform complete with a unity SDK and other developer tools. It uses\n",
    "a mobile phone for its \"screen\" and camera. Images captured by the headset are sent to a MySQL server hosted on a\n",
    "Raspberry PI that contains the trained models. The images processed (labelled) on the raspberry pi are then sent back to\n",
    "the headset to be viewed by the user.\n",
    "\n",
    "]\n",
    "### Implementation\n",
    "[TODO: Talk about setting up the server]\n",
    "\n",
    "We trained [Redmon's YOLOv3](https://pjreddie.com/darknet/yolo/) (very) deep CovNet on Google's Collaborate notebook on\n",
    "[TBD] images over [TBD] epochs. After seeing a test set accuracy of [TBD], we dumped the trained model in a compressed\n",
    "file and saved the file on our raspberry pi. Whenever the pi gets a \"labelling\" request from the Aryzon headset, it loads the models from the compressed\n",
    "file and calls the model's predict method. It then send's back the labelled image as a response to the headset's query.\n",
    "\n",
    "### Results\n",
    "[TODO: ]\n",
    "### Implication\n",
    "[TODO: ]\n",
    "\n",
    "### Citations\n",
    "[TODO: Use proper citations]\n",
    "\n",
    "yolov3,\n",
    "title={YOLOv3: An Incremental Improvement},\n",
    "author={Redmon, Joseph and Farhadi, Ali},\n",
    "journal = {arXiv},\n",
    "year={2018}\n",
    "\n",
    "---\n",
    "\n",
    "https://medium.com/analytics-vidhya/yolo-v3-theory-explained-33100f6d193"
   ]
  }
 ],
 "metadata": {
  "kernelspec": {
   "display_name": "Python 3",
   "language": "python",
   "name": "python3"
  },
  "language_info": {
   "codemirror_mode": {
    "name": "ipython",
    "version": 2
   },
   "file_extension": ".py",
   "mimetype": "text/x-python",
   "name": "python",
   "nbconvert_exporter": "python",
   "pygments_lexer": "ipython2",
   "version": "2.7.6"
  }
 },
 "nbformat": 4,
 "nbformat_minor": 0
}