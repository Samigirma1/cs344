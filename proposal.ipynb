{
 "cells": [
  {
   "cell_type": "markdown",
   "metadata": {
    "collapsed": true,
    "pycharm": {
     "name": "#%% md\n"
    }
   },
   "source": [
    "## Honors Project Proposal - Samuel Zeleke & Enoch Mwesigwa\n",
    "\n",
    "Our project is aimed at creating a system that correctly labels facial expressions in real-time using an Aryzon headset and\n",
    "CNNs built on keras.\n",
    "\n",
    "The Aryzon 3D AR headset provides an inexpensive platform complete with a unity SDK and other developer tools. It uses\n",
    "a mobile phone for its \"screen\" and camera. Images captured by the headset are sent to a MySQL server hosted on a\n",
    "Raspberry PI that contains the trained models. The images processed (labelled) on the raspberry pi are then sent back to\n",
    "the headset to be viewed by the user.\n",
    "\n",
    "The Neural networks used to label the images will be built using the Keras library. It conveniently abstracts tensorflow's\n",
    "nuances a provides an intuitive API for building complex models. This will let us experiment with different architectures and\n",
    "choose a setup that works best."
   ]
  }
 ],
 "metadata": {
  "kernelspec": {
   "display_name": "Python 3",
   "language": "python",
   "name": "python3"
  },
  "language_info": {
   "codemirror_mode": {
    "name": "ipython",
    "version": 2
   },
   "file_extension": ".py",
   "mimetype": "text/x-python",
   "name": "python",
   "nbconvert_exporter": "python",
   "pygments_lexer": "ipython2",
   "version": "2.7.6"
  }
 },
 "nbformat": 4,
 "nbformat_minor": 0
}