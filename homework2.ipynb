{
 "cells": [
  {
   "cell_type": "markdown",
   "metadata": {
    "collapsed": true,
    "pycharm": {
     "name": "#%% md\n"
    }
   },
   "source": [
    "## Homework 02 - Samuel Zeleke - CS344\n",
    "\n",
    "#### Exercise 1\n",
    "Build a spam filter based on Paul Graham’s A Plan for Spam. You’ll find a sketch of his statistical algorithm early in the article (roughly one-fifth of the way through the article).\n",
    "\n",
    "Include in your solution, as one test case, the probability tables for the words in the following hard-coded SPAM/HAM corpus (and only this corpus) using a minimum count threshold of 1 (rather than the 5 used in the algorithm):\n",
    "\n",
    "spam_corpus = [[\"I\", \"am\", \"spam\", \"spam\", \"I\", \"am\"], [\"I\", \"do\", \"not\", \"like\", \"that\", \"spamiam\"]]\n",
    "\n",
    "ham_corpus = [[\"do\", \"i\", \"like\", \"green\", \"eggs\", \"and\", \"ham\"], [\"i\", \"do\"]]\n",
    "\n",
    "ANSWER:"
   ]
  },
  {
   "cell_type": "code",
   "execution_count": 2,
   "outputs": [
    {
     "name": "stdout",
     "text": [
      "{'I': 0.99,\n",
      " 'am': 0.99,\n",
      " 'do': 0.3333333333333333,\n",
      " 'i': 0.01,\n",
      " 'like': 0.3333333333333333,\n",
      " 'spam': 0.99}\n"
     ],
     "output_type": "stream"
    }
   ],
   "source": [
    "import pprint\n",
    "\n",
    "prettier = pprint.PrettyPrinter()\n",
    "\n",
    "probTable = dict()\n",
    "\n",
    "spam_corpus = [[\"I\", \"am\", \"spam\", \"spam\", \"I\", \"am\"], [\"I\", \"do\", \"not\", \"like\", \"that\", \"spamiam\"]]\n",
    "ham_corpus = [[\"do\", \"i\", \"like\", \"green\", \"eggs\", \"and\", \"ham\"], [\"i\", \"do\"]]\n",
    "\n",
    "def spamFilter(spam, ham):\n",
    "    wordStats = dict()\n",
    "\n",
    "    # count word in spam\n",
    "    for document in spam:\n",
    "        for word in document:\n",
    "            if word in wordStats.keys():\n",
    "                wordStats[word][\"spam\"] += 1\n",
    "            else:\n",
    "                wordStats[word] = {\"spam\": 1, \"ham\": 0}\n",
    "\n",
    "    # count word in ham\n",
    "    for document in ham:\n",
    "        for word in document:\n",
    "            if word in wordStats.keys():\n",
    "                wordStats[word][\"ham\"] += 1\n",
    "            else:\n",
    "                wordStats[word] = {\"ham\": 1, \"spam\": 0}\n",
    "\n",
    "    # calculate the probabilities\n",
    "    returnContainer = dict()\n",
    "\n",
    "    for word in wordStats:\n",
    "        if wordStats[word][\"spam\"] + wordStats[word][\"ham\"] > 1:\n",
    "            statSpam = 1 if wordStats[word][\"spam\"] / len(spam) > 1 else wordStats[word][\"spam\"] / len(spam)\n",
    "            statHam = 1 if 2*wordStats[word][\"ham\"]/len(ham) > 1 else 2*wordStats[word][\"ham\"]/len(ham)\n",
    "            prob = statSpam / (statHam + statSpam)\n",
    "\n",
    "            returnContainer[word] = (prob if prob > 0.01 else 0.01) if prob < 0.99 else 0.99\n",
    "\n",
    "\n",
    "    return returnContainer\n",
    "\n",
    "spamFilter(spam_corpus, ham_corpus)"
   ],
   "metadata": {
    "collapsed": false,
    "pycharm": {
     "name": "#%% python\n",
     "is_executing": false
    }
   }
  },
  {
   "cell_type": "markdown",
   "source": [
    "Graham argues that this is a Baysian approach to SPAM. What makes it Bayesian?\n",
    "\n",
    "ANSWER:\n",
    "    The approach evaluates an email based on the conditional probabilities of a select number of words, instead of using\n",
    "    a complete joint probability table for the words used in emails. \n",
    "    \n",
    "#### Exercise 2"
   ],
   "metadata": {
    "collapsed": false,
    "pycharm": {
     "name": "#%% md\n"
    }
   }
  }
 ],
 "metadata": {
  "kernelspec": {
   "display_name": "Python 3",
   "language": "python",
   "name": "python3"
  },
  "language_info": {
   "codemirror_mode": {
    "name": "ipython",
    "version": 2
   },
   "file_extension": ".py",
   "mimetype": "text/x-python",
   "name": "python",
   "nbconvert_exporter": "python",
   "pygments_lexer": "ipython2",
   "version": "2.7.6"
  },
  "pycharm": {
   "stem_cell": {
    "cell_type": "raw",
    "source": [],
    "metadata": {
     "collapsed": false
    }
   }
  }
 },
 "nbformat": 4,
 "nbformat_minor": 0
}