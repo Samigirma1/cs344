{
 "cells": [
  {
   "cell_type": "markdown",
   "metadata": {
    "collapsed": true,
    "pycharm": {
     "name": "#%% md\n"
    }
   },
   "source": [
    "## Homework 02 - Samuel Zeleke - CS344\n",
    "\n",
    "#### Exercise 1\n",
    "Build a spam filter based on Paul Graham’s A Plan for Spam. You’ll find a sketch of his statistical algorithm early in \n",
    "the article (roughly one-fifth of the way through the article).\n",
    "\n",
    "Include in your solution, as one test case, the probability tables for the words in the following hard-coded SPAM/HAM \n",
    "corpus (and only this corpus) using a minimum count threshold of 1 (rather than the 5 used in the algorithm):\n",
    "\n",
    "spam_corpus = [[\"I\", \"am\", \"spam\", \"spam\", \"I\", \"am\"], [\"I\", \"do\", \"not\", \"like\", \"that\", \"spamiam\"]]\n",
    "\n",
    "ham_corpus = [[\"do\", \"i\", \"like\", \"green\", \"eggs\", \"and\", \"ham\"], [\"i\", \"do\"]]\n",
    "\n",
    "ANSWER:"
   ]
  },
  {
   "cell_type": "code",
   "execution_count": 1,
   "outputs": [
    {
     "name": "stdout",
     "text": [
      "{'I': 1.0,\n",
      " 'am': 1.0,\n",
      " 'do': 0.33557046979865773,\n",
      " 'i': 0.01,\n",
      " 'like': 0.33557046979865773,\n",
      " 'spam': 1.0}\n",
      "Testing on string: \" I am a spam email that uses a lot of i i i i s. \"\n",
      "  Probability of being Spam is:  1.0\n",
      "Testing on string: \" do I take CS344? \"\n",
      "  Probability of being Spam is:  1.0\n",
      "Testing on string: \" do i take CS344? \"\n",
      "  Probability of being Spam is:  0.002262213123098327\n",
      "Testing on string: \" i i i i i notSpam \"\n",
      "  Probability of being Spam is:  7.010238084930902e-11\n"
     ],
     "output_type": "stream"
    }
   ],
   "source": [
    "# Utility variables\n",
    "import pprint\n",
    "\n",
    "prettier = pprint.PrettyPrinter()\n",
    "\n",
    "probTable = dict()\n",
    "\n",
    "spam_corpus = [[\"I\", \"am\", \"spam\", \"spam\", \"I\", \"am\"], [\"I\", \"do\", \"not\", \"like\", \"that\", \"spamiam\"]]\n",
    "ham_corpus = [[\"do\", \"i\", \"like\", \"green\", \"eggs\", \"and\", \"ham\"], [\"i\", \"do\"]]\n",
    "\n",
    "def spamFilterModel(spam, ham):\n",
    "    wordStats = dict()\n",
    "\n",
    "    # count word in spam\n",
    "    for document in spam:\n",
    "        for word in document:\n",
    "            if word in wordStats.keys():\n",
    "                wordStats[word][\"spam\"] += 1\n",
    "            else:\n",
    "                wordStats[word] = {\"spam\": 1, \"ham\": 0}\n",
    "\n",
    "    # count word in ham\n",
    "    for document in ham:\n",
    "        for word in document:\n",
    "            if word in wordStats.keys():\n",
    "                wordStats[word][\"ham\"] += 1\n",
    "            else:\n",
    "                wordStats[word] = {\"ham\": 1, \"spam\": 0}\n",
    "\n",
    "    # calculate the probabilities\n",
    "    returnContainer = dict()\n",
    "\n",
    "    for word in wordStats:\n",
    "        # if the word appears more than once in documents, calculate the probabilities\n",
    "        if wordStats[word][\"spam\"] + wordStats[word][\"ham\"] > 1:\n",
    "            # if the count for the word is more than the number of documents, set the prob to 0.99. Otherwise, find the \n",
    "            # word count-to-number of documents ratio \n",
    "            statSpam = 0.99 if wordStats[word][\"spam\"] / len(spam) > 0.99 else wordStats[word][\"spam\"] / len(spam)\n",
    "            statHam = 0.99 if 2*wordStats[word][\"ham\"]/len(ham) > 0.99 else 2*wordStats[word][\"ham\"]/len(ham)\n",
    "            # \n",
    "            prob = statSpam / (statHam + statSpam)\n",
    "\n",
    "            returnContainer[word] = prob if prob > 0.01 else 0.01\n",
    "\n",
    "    return returnContainer\n",
    "\n",
    "prettier.pprint(spamFilterModel(spam_corpus, ham_corpus))\n",
    "\n",
    "def spamIdentifier(model, string):\n",
    "    probForSpam = 1\n",
    "    probAgainstSpam = 1\n",
    "    for word in string.split(\" \"):\n",
    "        # if the word was in the \"training\" corpus then multiply with its probability values.\n",
    "        # otherwise, use the likelihood of being spam to 0.4\n",
    "        if word in model.keys():\n",
    "            probForSpam *= model[word]\n",
    "            probAgainstSpam *= (1 - model[word])\n",
    "        else:\n",
    "            probForSpam *= 0.4\n",
    "            probAgainstSpam *= 0.6\n",
    "    return probForSpam / (probForSpam + probAgainstSpam)\n",
    "testStrings = [\n",
    "    \"I am a spam email that uses a lot of i i i i s.\",\n",
    "    \"do I take CS344?\",\n",
    "    \"do i take CS344?\",\n",
    "    \"i i i i i notSpam\",\n",
    "]\n",
    "\n",
    "for string in testStrings:\n",
    "    print(\"Testing on string: \\\"\", string, \"\\\"\\n  Probability of being Spam is: \", \n",
    "          spamIdentifier(spamFilterModel(spam_corpus, ham_corpus), string))"
   ],
   "metadata": {
    "collapsed": false,
    "pycharm": {
     "name": "#%% python\n",
     "is_executing": false
    }
   }
  },
  {
   "cell_type": "markdown",
   "source": [
    "Graham argues that this is a Baysian approach to SPAM. What makes it Bayesian?\n",
    "\n",
    "ANSWER:\n",
    "    The approach evaluates an email based on the conditional probability of the email being spam given certain words. It\n",
    "     does not need a complete joint probability table for every possible combination of words. \n",
    "    \n",
    "#### Exercise 2\n",
    "\n",
    "Do the following exercises based on the Bayesian network shown in Figure 14.12a:\n",
    "\n",
    "A. Implement the network using the AIMA Python tools.\n",
    "\n",
    "ANSWER:"
   ],
   "metadata": {
    "collapsed": false,
    "pycharm": {
     "name": "#%% md\n"
    }
   }
  },
  {
   "cell_type": "code",
   "execution_count": 2,
   "outputs": [
    {
     "name": "stdout",
     "text": [
      "i.   P(Cloudy):                                False: 0.5, True: 0.5\n",
      "ii.  P(Sprinkler | Cloudy):                    False: 0.9, True: 0.1\n",
      "iii. P(Cloudy | Sprinkler ⋂ ¬Rain):            False: 0.952, True: 0.0476\n",
      "iv.  P(WetGrass | Cloudy ⋂ Sprinkler ⋂ Rain):  False: 0.01, True: 0.99\n",
      "v.   P(Cloudy | ¬WetGrass):                    False: 0.639, True: 0.361\n"
     ],
     "output_type": "stream"
    }
   ],
   "source": [
    "from probability import BayesNet, enumeration_ask\n",
    "\n",
    "# Utility variables\n",
    "T, F = True, False\n",
    "grass = BayesNet([\n",
    "    ('Cloudy', '', 0.5),\n",
    "    ('Sprinkler', 'Cloudy', {T: 0.1, F:0.5}),\n",
    "    ('Rain', 'Cloudy', {T: 0.8, F: 0.2}),\n",
    "    ('WetGrass', 'Sprinkler Rain', {(T, T): 0.99, (T, F): 0.9, (F, T): 0.9, (F, F): 0}),\n",
    "    ])\n",
    "# P(Cloudy)\n",
    "print(\"i.   P(Cloudy):                               \", enumeration_ask('Cloudy', dict(), grass).show_approx())\n",
    "# P(Cloudy | ¬WetGrass)\n",
    "print(\"ii.  P(Sprinkler | Cloudy):                   \", enumeration_ask('Sprinkler', dict(Cloudy=T), grass).show_approx())\n",
    "# calculating P(Cloudy | Sprinkler ⋂ ¬Rain)\n",
    "print(\"iii. P(Cloudy | Sprinkler ⋂ ¬Rain):           \", enumeration_ask('Cloudy', dict(Sprinkler=T, Rain=F), grass).show_approx())\n",
    "# P(WetGrass | Cloudy ⋂ Sprinkler ⋂ Rain)\n",
    "print(\"iv.  P(WetGrass | Cloudy ⋂ Sprinkler ⋂ Rain): \", enumeration_ask('WetGrass', dict(Sprinkler=T, Rain=T, Cloudy=T), grass).show_approx())\n",
    "# P(Cloudy | ¬WetGrass)\n",
    "print(\"v.   P(Cloudy | ¬WetGrass):                   \", enumeration_ask('Cloudy', dict(WetGrass=F), grass).show_approx())"
   ],
   "metadata": {
    "collapsed": false,
    "pycharm": {
     "name": "#%% python\n",
     "is_executing": false
    }
   }
  },
  {
   "cell_type": "markdown",
   "source": [
    "B. Compute the number of independent values in the full joint probability distribution for this domain. Assume that no \n",
    "conditional independence relations are known to hold between these values.\n",
    "\n",
    "ANSWER: There are 3 independent variables and 8 possible combinations (values).\n",
    "\n",
    "C. Compute the number of independent values in the Bayesian network for this domain. Assume the conditional independence \n",
    "relations implied by the Bayes network.\n",
    "\n",
    "ANSWER: There's one independent variable (Cloudiness).\n",
    "\n",
    "D. Compute probabilities for the following:\n",
    "\n",
    "ANSWER:\n",
    "\n",
    "    i. P(Cloudy) = <0.5, 0.5>\n",
    "    ii. P(Sprinkler | Cloudy) = <0.1, 0.9>\n",
    "    iii. P(Cloudy | Sprinkler ⋂ ¬Rain) = <0.0476, 0.952>\n",
    "    \n",
    "    P(Cloudy | Sprinkler ⋂ ¬Rain) = α<P(Cloudy ⋂ Sprinkler ⋂ ¬Rain), P(Cloudy ⋂ Sprinkler ⋂ ¬Rain)>\n",
    "                   P(Cloudy ⋂ Sprinkler ⋂ ¬Rain) = P(Cloudy)*P(Sprinker | Cloudy)*P(Cloudy)*P(¬Rain | Cloudy)*P(Cloudy)\n",
    "                                                 = 0.5 * 0.1 * 0.5 * 0.2 * 0.5 \n",
    "                                                 = 0.0025\n",
    "                   P(¬Cloudy ⋂ Sprinkler ⋂ ¬Rain) = P(¬Cloudy)*P(Sprinker | ¬Cloudy)*P(¬Cloudy)*P(¬Rain | ¬Cloudy)*P(¬Cloudy)\n",
    "                                                 = 0.5 * 0.5 * 0.5 * 0.8 * 0.5 \n",
    "                                                 = 0.05\n",
    "    P(Cloudy | Sprinkler ⋂ ¬Rain) = α<0.0025, 0.05>, α = 1/0.0525\n",
    "                                  = <0.04762, 0.95238>\n",
    "                                  \n",
    "    iv. P(WetGrass | Cloudy ⋂ Sprinkler ⋂ Rain)\n",
    "    \n",
    "        P(WetGrass | Cloudy ⋂ Sprinkler ⋂ Rain) = α<P(WetGrass ⋂ Cloudy ⋂ Sprinkler ⋂ Rain), P(¬WetGrass ⋂ Cloudy ⋂ Sprinkler ⋂ Rain)>\n",
    "            P(WetGrass ⋂ Cloudy ⋂ Sprinkler ⋂ Rain) = \n",
    "                P(WetGrass | Sprinkler ⋂ Rain) * P(Sprinkler | Cloudy) * \n",
    "                P(Cloudy) * P(Rain | Cloudy) *P(Cloudy) * P(Cloudy)\n",
    "            P(WetGrass ⋂ Cloudy ⋂ Sprinkler ⋂ Rain) = 0.99 * 0.1 * 0.5 * 0.8 * 0.5 * 0.5\n",
    "                                                    = 0.0099\n",
    "            P(¬WetGrass ⋂ Cloudy ⋂ Sprinkler ⋂ Rain) = \n",
    "                P(¬WetGrass | Sprinkler ⋂ Rain) * P(Sprinkler | Cloudy) * \n",
    "                P(Cloudy) * P(Rain | Cloudy) *P(Cloudy) * P(Cloudy)\n",
    "            P(WetGrass ⋂ Cloudy ⋂ Sprinkler ⋂ Rain) = 0.01 * 0.1 * 0.5 * 0.8 * 0.5 * 0.5\n",
    "                                                    = 0.0001\n",
    "        P(WetGrass | Cloudy ⋂ Sprinkler ⋂ Rain) = α<0.0099, 0.0001>, α = 1/0.01\n",
    "                                                = <0.99, 0.01>                                       \n",
    "            \n",
    "    v. P(Cloudy | ¬WetGrass)\n",
    "        P(Cloudy | ¬WetGrass) = α<P(Cloudy ⋂ ¬WetGrass), P(¬Cloudy ⋂ ¬WetGrass)>\n",
    "            P(Cloudy ⋂ ¬WetGrass) = \n",
    "                P(Cloudy) * (P(¬WetGrass | Sprinkler ⋂ Rain) * P(Sprinkler) * P(Rain) + \n",
    "                             P(¬WetGrass | ¬Sprinkler ⋂ Rain) * P(¬Sprinkler) * P(Rain) +\n",
    "                             P(¬WetGrass | Sprinkler ⋂ ¬Rain) * P(Sprinkler) * P(¬Rain) + \n",
    "                             P(¬WetGrass | ¬Sprinkler ⋂ ¬Rain) * P(¬Sprinkler) * P(¬Rain)\n",
    "                             )\n",
    "              P(Sprinkler) = P(Sprinkler | Cloudy) * P(Cloudy)\n",
    "                           = 0.1*0.5\n",
    "                           = 0.05\n",
    "              P(¬Sprinkler) = P(¬Sprinkler | Cloudy) * P(Cloudy)\n",
    "                            = 0.9*0.5\n",
    "                            = 0.45\n",
    "              P(Rain) = P(Rain | Cloudy) * P(Cloudy)\n",
    "                      = 0.8 * 0.5\n",
    "                      = 0.4\n",
    "              P(¬Rain) = P(¬Rain | Cloudy) * P(Cloudy)\n",
    "                       = 0.2*0.5\n",
    "                       = 0.1\n",
    "                       \n",
    "            P(Cloudy ⋂ ¬WetGrass) = 0.5 * (0.01 * 0.05 * 0.4 + 0.1 * 0.45 * 0.4 + 0.1 * 0.05 * 0.1 + 1 * 0.45 * 0.1)\n",
    "                                  = 0.03185\n",
    "            ----------------------------------------------------------------------------------------------------\n",
    "            P(¬Cloudy ⋂ ¬WetGrass) = \n",
    "                P(¬Cloudy) * (P(¬WetGrass | Sprinkler ⋂ Rain) * P(Sprinkler) * P(Rain) + \n",
    "                             P(¬WetGrass | ¬Sprinkler ⋂ Rain) * P(¬Sprinkler) * P(Rain) +\n",
    "                             P(¬WetGrass | Sprinkler ⋂ ¬Rain) * P(Sprinkler) * P(¬Rain) + \n",
    "                             P(¬WetGrass | ¬Sprinkler ⋂ ¬Rain) * P(¬Sprinkler) * P(¬Rain)\n",
    "                             )\n",
    "              P(Sprinkler) = P(Sprinkler | ¬Cloudy) * P(¬Cloudy)\n",
    "                           = 0.5*0.5\n",
    "                           = 0.25\n",
    "              P(¬Sprinkler) = P(¬Sprinkler | ¬Cloudy) * P(¬Cloudy)\n",
    "                            = 0.5*0.5\n",
    "                            = 0.25\n",
    "              P(Rain) = P(Rain | ¬Cloudy) * P(¬Cloudy)\n",
    "                      = 0.2 * 0.5\n",
    "                      = 0.1\n",
    "              P(¬Rain) = P(¬Rain | ¬Cloudy) * P(¬Cloudy)\n",
    "                       = 0.8*0.5\n",
    "                       = 0.4\n",
    "                       \n",
    "            P(¬Cloudy ⋂ ¬WetGrass) = 0.5 * (0.01 * 0.25 * 0.1 + 0.1 * 0.25 * 0.1 + 0.1 * 0.25 * 0.4 + 1 * 0.25 * 0.4)\n",
    "                                   = 0.056375\n",
    "        P(Cloudy | ¬WetGrass) = α<P(Cloudy ⋂ ¬WetGrass), P(¬Cloudy ⋂ ¬WetGrass)>\n",
    "                              = α<0.03185, 0.056375>, α= 1 /(0.03185 + 0.056375)\n",
    "                              = <0.361, 0.639>"
   ],
   "metadata": {
    "collapsed": false,
    "pycharm": {
     "name": "#%% md\n"
    }
   }
  }
 ],
 "metadata": {
  "kernelspec": {
   "display_name": "Python 3",
   "language": "python",
   "name": "python3"
  },
  "language_info": {
   "codemirror_mode": {
    "name": "ipython",
    "version": 2
   },
   "file_extension": ".py",
   "mimetype": "text/x-python",
   "name": "python",
   "nbconvert_exporter": "python",
   "pygments_lexer": "ipython2",
   "version": "2.7.6"
  },
  "pycharm": {
   "stem_cell": {
    "cell_type": "raw",
    "source": [],
    "metadata": {
     "collapsed": false
    }
   }
  }
 },
 "nbformat": 4,
 "nbformat_minor": 0
}