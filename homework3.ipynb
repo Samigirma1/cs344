{
 "cells": [
  {
   "cell_type": "markdown",
   "metadata": {
    "collapsed": true,
    "pycharm": {
     "name": "#%% md\n"
    }
   },
   "source": [
    "### Samuel Zeleke - CS344 - Homework 3\n",
    "\n",
    "1. Compute the following values using the restaurant example.\n",
    "\n",
    "    The *information gain* provided by using the price attribute as the root of the decision tree. Is it more or less \n",
    "valuable than the type or patrons attributes computed in class?\n",
    "\n",
    "    ANSWER:\n",
    "        Gain(Price) = 1 - Remainder(A)\n",
    "                    = 1 - ((3/12) * B(1/3) + (2/12) * B(2/2) + (7/12) * B(3/7))\n",
    "                    = 1 - (0.25 * -((1/3) * lg(1/3) + (2/3) * lg(2/3))\n",
    "                           + (1/6) * -((2/2) * lg(2/2) + (0/2) * lg(0/2))\n",
    "                           + (7/12) * -((3/7) * lg(3/7) + (4/7) * lg(4/7))\n",
    "                      )\n",
    "                    = 1 - (0.25 * -(-0.07952 -0.389975) + \n",
    "                            (1/6) * -(0) +\n",
    "                            (7/12) * -(-0.52388 - 0.46135) \n",
    "                          )\n",
    "                    = 1 - 0.69209\n",
    "                    = 0.3079\n",
    "        Since, gain from Patrons is greater than the gain for Price, asking about price is less valuable than asking \n",
    "        about Patrons. "
   ]
  }
 ],
 "metadata": {
  "kernelspec": {
   "display_name": "Python 3",
   "language": "python",
   "name": "python3"
  },
  "language_info": {
   "codemirror_mode": {
    "name": "ipython",
    "version": 2
   },
   "file_extension": ".py",
   "mimetype": "text/x-python",
   "name": "python",
   "nbconvert_exporter": "python",
   "pygments_lexer": "ipython2",
   "version": "2.7.6"
  },
  "pycharm": {
   "stem_cell": {
    "cell_type": "raw",
    "source": [],
    "metadata": {
     "collapsed": false
    }
   }
  }
 },
 "nbformat": 4,
 "nbformat_minor": 0
}